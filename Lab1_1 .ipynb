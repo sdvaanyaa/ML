{
 "cells": [
  {
   "cell_type": "markdown",
   "metadata": {
    "id": "sErcjeV2zU5I"
   },
   "source": [
    "# **Лабораторная работа №1**\n",
    "\n",
    "## **Выполнил:**\n",
    "\n"
   ]
  },
  {
   "cell_type": "markdown",
   "metadata": {
    "id": "cXTzO5HV18Yr"
   },
   "source": [
    "# 1. Numpy\n",
    "\n",
    "Необходимо использовать функции и методы библиотеки numpy. Использовать циклы, генераторы списков **запрещено**."
   ]
  },
  {
   "cell_type": "code",
   "metadata": {
    "ExecuteTime": {
     "end_time": "2024-10-02T14:24:10.228363Z",
     "start_time": "2024-10-02T14:24:10.115850Z"
    }
   },
   "source": "import numpy as np",
   "outputs": [
    {
     "ename": "ModuleNotFoundError",
     "evalue": "No module named 'numpy'",
     "output_type": "error",
     "traceback": [
      "\u001B[0;31m---------------------------------------------------------------------------\u001B[0m",
      "\u001B[0;31mModuleNotFoundError\u001B[0m                       Traceback (most recent call last)",
      "Cell \u001B[0;32mIn[1], line 1\u001B[0m\n\u001B[0;32m----> 1\u001B[0m \u001B[38;5;28;01mimport\u001B[39;00m \u001B[38;5;21;01mnumpy\u001B[39;00m \u001B[38;5;28;01mas\u001B[39;00m \u001B[38;5;21;01mnp\u001B[39;00m\n",
      "\u001B[0;31mModuleNotFoundError\u001B[0m: No module named 'numpy'"
     ]
    }
   ],
   "execution_count": 1
  },
  {
   "cell_type": "markdown",
   "metadata": {
    "id": "AmUMh0xo32nb"
   },
   "source": [
    "1. Создайте матрицу $3 × 3 $ со значениями от 0 до 8."
   ]
  },
  {
   "cell_type": "code",
   "execution_count": null,
   "metadata": {
    "id": "34WhZifT13Jn"
   },
   "outputs": [],
   "source": []
  },
  {
   "cell_type": "markdown",
   "metadata": {
    "id": "1jSpAGnP12Vn"
   },
   "source": [
    "2. Создайте матрицу шахматной доски  $8 × 8 $, заполненную 'B' и 'W', используя функцию tile."
   ]
  },
  {
   "cell_type": "code",
   "execution_count": null,
   "metadata": {
    "id": "OKjYdYlB32JN"
   },
   "outputs": [],
   "source": []
  },
  {
   "cell_type": "markdown",
   "metadata": {
    "id": "_k7LOsPh4Feo"
   },
   "source": [
    "3. Найти индексы ненулевых элементов в произвольном массиве, например: $ [1,2,0,0,4,0,0,4,6,4,0] $\n"
   ]
  },
  {
   "cell_type": "code",
   "execution_count": null,
   "metadata": {
    "id": "BUJdZFGn4P3k"
   },
   "outputs": [],
   "source": []
  },
  {
   "cell_type": "markdown",
   "metadata": {
    "id": "ZJWS2wO-3xfn"
   },
   "source": [
    "4. Создайте двумерный массив с единицами на границах и нулями внутри, например:\n",
    "\n",
    "$ 1 1 1 1 1 $\n",
    "\n",
    "$ 1 0 0 0 1 $\n",
    "\n",
    "$ 1 0 0 0 1 $\n",
    "\n",
    "$ 1 1 1 1 1 $\n"
   ]
  },
  {
   "cell_type": "code",
   "execution_count": null,
   "metadata": {
    "id": "dGfAw9ii5fhJ"
   },
   "outputs": [],
   "source": []
  },
  {
   "cell_type": "markdown",
   "metadata": {
    "id": "L8m6wERB4m7_"
   },
   "source": [
    "5. Создайте случайный вектор размером 15 и замените максимальное значение на $NaN$.\n"
   ]
  },
  {
   "cell_type": "code",
   "execution_count": null,
   "metadata": {
    "id": "-orpyoP14mKS"
   },
   "outputs": [],
   "source": []
  },
  {
   "cell_type": "markdown",
   "metadata": {
    "id": "V5SVMkLv4QOl"
   },
   "source": [
    "6. Рассмотрим массив размерности $(6, 7, 8)$. Каков индекс $(i,j,k)$ 100-го элемента?"
   ]
  },
  {
   "cell_type": "code",
   "execution_count": null,
   "metadata": {
    "id": "Io3LqADB4oNd"
   },
   "outputs": [],
   "source": []
  },
  {
   "cell_type": "markdown",
   "metadata": {
    "id": "vTEGupeC4bmb"
   },
   "source": [
    "7. Рассмотрим случайную матрицу  $15 × 2 $, представляющую декартовы координаты, преобразуйте их в полярные координаты."
   ]
  },
  {
   "cell_type": "code",
   "execution_count": null,
   "metadata": {
    "id": "wJggfH9L4nZ_"
   },
   "outputs": [],
   "source": []
  },
  {
   "cell_type": "markdown",
   "metadata": {
    "id": "Y6QOvFAE5Rdo"
   },
   "source": [
    "8. По двум массивам $x$ и $y$ постройте матрицу Коши $C$\n",
    " $(C_{ij} =\\frac{1}{x_i - y_j})$"
   ]
  },
  {
   "cell_type": "code",
   "execution_count": null,
   "metadata": {
    "id": "VrMhqaTg5Rvv"
   },
   "outputs": [],
   "source": []
  },
  {
   "cell_type": "markdown",
   "metadata": {
    "id": "clAXzbii4wA3"
   },
   "source": [
    "9. Рассмотрим матрицу $10 × 3 $, извлеките строки с неравными значениями (например, $[2,2,3]$)."
   ]
  },
  {
   "cell_type": "code",
   "execution_count": null,
   "metadata": {
    "id": "97jD43Gl4wbx"
   },
   "outputs": [],
   "source": []
  },
  {
   "cell_type": "markdown",
   "metadata": {
    "id": "3dVmnyBLxuUP"
   },
   "source": [
    "10. Извлеките уникальные строки из двумерного массива.\n"
   ]
  },
  {
   "cell_type": "code",
   "execution_count": null,
   "metadata": {
    "id": "yWdTK_orxtx0"
   },
   "outputs": [],
   "source": []
  },
  {
   "cell_type": "markdown",
   "metadata": {
    "id": "ehaTVnKIyufu"
   },
   "source": [
    "# 2. Pandas\n",
    "\n",
    "# Найдите ответы на вопросы с помощью предложенного датасета:"
   ]
  },
  {
   "cell_type": "markdown",
   "metadata": {
    "id": "h7NfRLCpFec1"
   },
   "source": [
    "Файл с датасетом - `olympics_dataset.csv`"
   ]
  },
  {
   "cell_type": "code",
   "execution_count": 2,
   "metadata": {},
   "outputs": [],
   "source": [
    "import pandas as pd"
   ]
  },
  {
   "cell_type": "code",
   "execution_count": 3,
   "metadata": {},
   "outputs": [],
   "source": [
    "# Load dataset here"
   ]
  },
  {
   "cell_type": "markdown",
   "metadata": {
    "id": "fuOEjaSBzJMn"
   },
   "source": [
    "1. Сколько спортсменов участвовали в Летних Олимпийских играх за всё время?"
   ]
  },
  {
   "cell_type": "code",
   "execution_count": null,
   "metadata": {
    "id": "W0NVQaWEzcrj"
   },
   "outputs": [],
   "source": []
  },
  {
   "cell_type": "markdown",
   "metadata": {
    "id": "NgqBXyjAzdC1"
   },
   "source": [
    "2. Найдите участника с наибольшим количеством медалей"
   ]
  },
  {
   "cell_type": "code",
   "execution_count": null,
   "metadata": {
    "id": "_BgXSSrAzgJr"
   },
   "outputs": [],
   "source": []
  },
  {
   "cell_type": "markdown",
   "metadata": {
    "id": "hAITny41zgjO"
   },
   "source": [
    "3. Какой спорт является самым популярным, то есть в нём участвовало больше всего спортсменов за всё время?"
   ]
  },
  {
   "cell_type": "code",
   "execution_count": null,
   "metadata": {
    "id": "3aG36MWizmVa"
   },
   "outputs": [],
   "source": []
  },
  {
   "cell_type": "markdown",
   "metadata": {
    "id": "8AU6Qj1nzmo9"
   },
   "source": [
    "4. Кто был победителем медального зачёта в 2004 году?"
   ]
  },
  {
   "cell_type": "code",
   "execution_count": null,
   "metadata": {
    "id": "VU9cUVwCzr4v"
   },
   "outputs": [],
   "source": []
  },
  {
   "cell_type": "markdown",
   "metadata": {
    "id": "WW5dyJHlzsMS"
   },
   "source": [
    "5. В каком виде спорта США завоевало наибольшее число медалей?"
   ]
  },
  {
   "cell_type": "code",
   "execution_count": null,
   "metadata": {
    "id": "VStk_FqV1RMW"
   },
   "outputs": [],
   "source": []
  },
  {
   "cell_type": "markdown",
   "metadata": {
    "id": "mqT-RjT5ymfJ"
   },
   "source": [
    "# С помощью графика покажите:"
   ]
  },
  {
   "cell_type": "markdown",
   "metadata": {
    "id": "KrawmUwtERK0"
   },
   "source": [
    "6. Сколько женщин и мужчин участвовало в Летних Олимпийских играх каждый год?"
   ]
  },
  {
   "cell_type": "code",
   "execution_count": null,
   "metadata": {
    "id": "xIDuYWxLEZty"
   },
   "outputs": [],
   "source": []
  },
  {
   "cell_type": "markdown",
   "metadata": {
    "id": "Vd7kfuEeEZSr"
   },
   "source": [
    "7. Какие 10 стран на текущий момент имеют наибольшее количество золотых медалей?\n"
   ]
  },
  {
   "cell_type": "code",
   "execution_count": null,
   "metadata": {
    "id": "weNY9z0NFb4c"
   },
   "outputs": [],
   "source": []
  },
  {
   "cell_type": "markdown",
   "metadata": {
    "id": "SlRCGFkXFbBq"
   },
   "source": [
    "8. Сколько золотых, серебряных и бронзовых медалей зарабатывал СССР отдельно по каждым играм?"
   ]
  },
  {
   "cell_type": "code",
   "execution_count": null,
   "metadata": {
    "id": "SzrdxQhaF7gT"
   },
   "outputs": [],
   "source": []
  },
  {
   "cell_type": "markdown",
   "metadata": {
    "id": "L7Nnrghyy07f"
   },
   "source": [
    "9. Сколько медалей завоёвывали спортсмены и спортсменки (отдельно) команды Китая на каждой олимпиаде?\n"
   ]
  },
  {
   "cell_type": "code",
   "execution_count": null,
   "metadata": {
    "id": "IjMC9RULy0tE"
   },
   "outputs": [],
   "source": []
  },
  {
   "cell_type": "markdown",
   "metadata": {
    "id": "YM5LH2-Xyz5A"
   },
   "source": [
    "10. Какие 10 стран имеют наибольшее количество участников, не получивших никаких медалей ни на одной из Летних олимпиад?"
   ]
  },
  {
   "cell_type": "code",
   "execution_count": null,
   "metadata": {
    "id": "QF1-5fg3y1SY"
   },
   "outputs": [],
   "source": []
  },
  {
   "cell_type": "markdown",
   "metadata": {
    "id": "uc7V9_XbG5lY"
   },
   "source": [
    "**Выводы:**\n"
   ]
  }
 ],
 "metadata": {
  "colab": {
   "provenance": []
  },
  "kernelspec": {
   "display_name": "Python 3 (ipykernel)",
   "language": "python",
   "name": "python3"
  },
  "language_info": {
   "codemirror_mode": {
    "name": "ipython",
    "version": 3
   },
   "file_extension": ".py",
   "mimetype": "text/x-python",
   "name": "python",
   "nbconvert_exporter": "python",
   "pygments_lexer": "ipython3",
   "version": "3.11.7"
  }
 },
 "nbformat": 4,
 "nbformat_minor": 4
}
